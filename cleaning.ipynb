{
 "cells": [
  {
   "cell_type": "code",
   "id": "initial_id",
   "metadata": {
    "collapsed": true,
    "ExecuteTime": {
     "end_time": "2024-11-26T16:33:59.055349Z",
     "start_time": "2024-11-26T16:33:58.580981Z"
    }
   },
   "source": [
    "import pandas as pd\n",
    "import country_converter as coco"
   ],
   "outputs": [],
   "execution_count": 1
  },
  {
   "metadata": {
    "ExecuteTime": {
     "end_time": "2024-11-26T16:34:44.468850Z",
     "start_time": "2024-11-26T16:34:44.443087Z"
    }
   },
   "cell_type": "code",
   "source": [
    "df = pd.read_csv('holidays.csv')\n",
    "df.head()"
   ],
   "id": "9ac0bd4feff27904",
   "outputs": [
    {
     "data": {
      "text/plain": [
       "       country date_parsed   weekday   day month  \\\n",
       "0  Afghanistan  1919-08-19   Tuesday  19.0   Aug   \n",
       "1      Albania  1912-11-28  Thursday  28.0   Nov   \n",
       "2      Algeria  1962-07-05  Thursday   5.0   Jul   \n",
       "3      Andorra         NaN       NaN   NaN   NaN   \n",
       "4       Angola  1975-11-11   Tuesday  11.0   Nov   \n",
       "\n",
       "                                name_of_holiday date_of_holiday  \\\n",
       "0  Afghan Independence Day (Afghan Victory Day)       August 19   \n",
       "1                    Flag Day (Dita e Flamurit)     November 28   \n",
       "2                              Independence Day          July 5   \n",
       "3                                           NaN             NaN   \n",
       "4                              Independence Day     November 11   \n",
       "\n",
       "   year_of_event independence_from  \\\n",
       "0         1919.0    United Kingdom   \n",
       "1         1912.0    Ottoman Empire   \n",
       "2         1962.0            France   \n",
       "3            NaN               NaN   \n",
       "4         1975.0          Portugal   \n",
       "\n",
       "                        event_commemorated_and_notes    year  \\\n",
       "0  Anglo-Afghan Treaty of 1919 or Treaty of Rawal...  1919.0   \n",
       "1  Albanian Declaration of Independence. The foll...  1912.0   \n",
       "2  Algeria gained independence following the Alge...  1962.0   \n",
       "3                                                NaN     NaN   \n",
       "4  The Alvor Agreement, signed on 15 January 1975...  1975.0   \n",
       "\n",
       "            date_mdy  \n",
       "0    August 19, 1919  \n",
       "1  November 28, 1912  \n",
       "2       July 5, 1962  \n",
       "3                NaN  \n",
       "4  November 11, 1975  "
      ],
      "text/html": [
       "<div>\n",
       "<style scoped>\n",
       "    .dataframe tbody tr th:only-of-type {\n",
       "        vertical-align: middle;\n",
       "    }\n",
       "\n",
       "    .dataframe tbody tr th {\n",
       "        vertical-align: top;\n",
       "    }\n",
       "\n",
       "    .dataframe thead th {\n",
       "        text-align: right;\n",
       "    }\n",
       "</style>\n",
       "<table border=\"1\" class=\"dataframe\">\n",
       "  <thead>\n",
       "    <tr style=\"text-align: right;\">\n",
       "      <th></th>\n",
       "      <th>country</th>\n",
       "      <th>date_parsed</th>\n",
       "      <th>weekday</th>\n",
       "      <th>day</th>\n",
       "      <th>month</th>\n",
       "      <th>name_of_holiday</th>\n",
       "      <th>date_of_holiday</th>\n",
       "      <th>year_of_event</th>\n",
       "      <th>independence_from</th>\n",
       "      <th>event_commemorated_and_notes</th>\n",
       "      <th>year</th>\n",
       "      <th>date_mdy</th>\n",
       "    </tr>\n",
       "  </thead>\n",
       "  <tbody>\n",
       "    <tr>\n",
       "      <th>0</th>\n",
       "      <td>Afghanistan</td>\n",
       "      <td>1919-08-19</td>\n",
       "      <td>Tuesday</td>\n",
       "      <td>19.0</td>\n",
       "      <td>Aug</td>\n",
       "      <td>Afghan Independence Day (Afghan Victory Day)</td>\n",
       "      <td>August 19</td>\n",
       "      <td>1919.0</td>\n",
       "      <td>United Kingdom</td>\n",
       "      <td>Anglo-Afghan Treaty of 1919 or Treaty of Rawal...</td>\n",
       "      <td>1919.0</td>\n",
       "      <td>August 19, 1919</td>\n",
       "    </tr>\n",
       "    <tr>\n",
       "      <th>1</th>\n",
       "      <td>Albania</td>\n",
       "      <td>1912-11-28</td>\n",
       "      <td>Thursday</td>\n",
       "      <td>28.0</td>\n",
       "      <td>Nov</td>\n",
       "      <td>Flag Day (Dita e Flamurit)</td>\n",
       "      <td>November 28</td>\n",
       "      <td>1912.0</td>\n",
       "      <td>Ottoman Empire</td>\n",
       "      <td>Albanian Declaration of Independence. The foll...</td>\n",
       "      <td>1912.0</td>\n",
       "      <td>November 28, 1912</td>\n",
       "    </tr>\n",
       "    <tr>\n",
       "      <th>2</th>\n",
       "      <td>Algeria</td>\n",
       "      <td>1962-07-05</td>\n",
       "      <td>Thursday</td>\n",
       "      <td>5.0</td>\n",
       "      <td>Jul</td>\n",
       "      <td>Independence Day</td>\n",
       "      <td>July 5</td>\n",
       "      <td>1962.0</td>\n",
       "      <td>France</td>\n",
       "      <td>Algeria gained independence following the Alge...</td>\n",
       "      <td>1962.0</td>\n",
       "      <td>July 5, 1962</td>\n",
       "    </tr>\n",
       "    <tr>\n",
       "      <th>3</th>\n",
       "      <td>Andorra</td>\n",
       "      <td>NaN</td>\n",
       "      <td>NaN</td>\n",
       "      <td>NaN</td>\n",
       "      <td>NaN</td>\n",
       "      <td>NaN</td>\n",
       "      <td>NaN</td>\n",
       "      <td>NaN</td>\n",
       "      <td>NaN</td>\n",
       "      <td>NaN</td>\n",
       "      <td>NaN</td>\n",
       "      <td>NaN</td>\n",
       "    </tr>\n",
       "    <tr>\n",
       "      <th>4</th>\n",
       "      <td>Angola</td>\n",
       "      <td>1975-11-11</td>\n",
       "      <td>Tuesday</td>\n",
       "      <td>11.0</td>\n",
       "      <td>Nov</td>\n",
       "      <td>Independence Day</td>\n",
       "      <td>November 11</td>\n",
       "      <td>1975.0</td>\n",
       "      <td>Portugal</td>\n",
       "      <td>The Alvor Agreement, signed on 15 January 1975...</td>\n",
       "      <td>1975.0</td>\n",
       "      <td>November 11, 1975</td>\n",
       "    </tr>\n",
       "  </tbody>\n",
       "</table>\n",
       "</div>"
      ]
     },
     "execution_count": 3,
     "metadata": {},
     "output_type": "execute_result"
    }
   ],
   "execution_count": 3
  },
  {
   "metadata": {
    "ExecuteTime": {
     "end_time": "2024-11-26T16:38:30.511770Z",
     "start_time": "2024-11-26T16:38:30.385246Z"
    }
   },
   "cell_type": "code",
   "source": "df[\"country_ISO\"] = coco.CountryConverter().convert(names=df[\"country\"],to='ISOnumeric')",
   "id": "111ce1542e9b1ffc",
   "outputs": [],
   "execution_count": 7
  },
  {
   "metadata": {
    "ExecuteTime": {
     "end_time": "2024-11-26T16:39:49.454404Z",
     "start_time": "2024-11-26T16:39:49.445985Z"
    }
   },
   "cell_type": "code",
   "source": "df.to_csv(\"holidays_cleaned.csv\",index=False)",
   "id": "c703b37f47f014d0",
   "outputs": [],
   "execution_count": 9
  }
 ],
 "metadata": {
  "kernelspec": {
   "display_name": "Python 3",
   "language": "python",
   "name": "python3"
  },
  "language_info": {
   "codemirror_mode": {
    "name": "ipython",
    "version": 2
   },
   "file_extension": ".py",
   "mimetype": "text/x-python",
   "name": "python",
   "nbconvert_exporter": "python",
   "pygments_lexer": "ipython2",
   "version": "2.7.6"
  }
 },
 "nbformat": 4,
 "nbformat_minor": 5
}
